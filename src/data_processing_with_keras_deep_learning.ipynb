{
 "cells": [
  {
   "attachments": {},
   "cell_type": "markdown",
   "metadata": {},
   "source": [
    "Python for NLP: Multi-label Text Classification with Keras\n",
    "\n",
    "Multi-label Text Classification Model with Single Output Layer\n",
    "\n",
    "https://stackabuse.com/python-for-nlp-multi-label-text-classification-with-keras/"
   ]
  },
  {
   "attachments": {},
   "cell_type": "markdown",
   "metadata": {},
   "source": [
    "Import data and libraries"
   ]
  },
  {
   "cell_type": "code",
   "execution_count": 4,
   "metadata": {},
   "outputs": [],
   "source": [
    "import pandas as pd\n",
    "\n",
    "#'Unnamed: 0' 'lemmes' 'pos'\n",
    "X_train = pd.read_csv(\"../challenge_dataset/X_train_clean.csv\").drop(columns='Unnamed: 0')\n",
    "\n",
    "#'Id', 'category_1', 'category_2', 'category_3', 'category_4'\n",
    "Y_train = pd.read_csv(\"../challenge_dataset/y_train.csv\",sep=\";\").drop(columns=\"Id\")\n",
    "\n",
    "#'Id ', 'Caption'\n",
    "X_test = pd.read_csv(\"../challenge_dataset/X_test.csv\",sep=';').drop(columns='Id ')"
   ]
  },
  {
   "cell_type": "code",
   "execution_count": 5,
   "metadata": {},
   "outputs": [
    {
     "data": {
      "text/plain": [
       "Index(['Caption'], dtype='object')"
      ]
     },
     "execution_count": 5,
     "metadata": {},
     "output_type": "execute_result"
    }
   ],
   "source": [
    "X_test.columns"
   ]
  }
 ],
 "metadata": {
  "kernelspec": {
   "display_name": "Python 3",
   "language": "python",
   "name": "python3"
  },
  "language_info": {
   "codemirror_mode": {
    "name": "ipython",
    "version": 3
   },
   "file_extension": ".py",
   "mimetype": "text/x-python",
   "name": "python",
   "nbconvert_exporter": "python",
   "pygments_lexer": "ipython3",
   "version": "3.10.8"
  },
  "orig_nbformat": 4,
  "vscode": {
   "interpreter": {
    "hash": "a64dd9666529d56eb09235f5970029eb81bdd6af585b079bb2453b5cfbbb8e77"
   }
  }
 },
 "nbformat": 4,
 "nbformat_minor": 2
}
