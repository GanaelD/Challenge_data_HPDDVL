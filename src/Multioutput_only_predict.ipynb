{
 "cells": [
  {
   "attachments": {},
   "cell_type": "markdown",
   "metadata": {},
   "source": [
    "Python for NLP: Multi-label Text Classification with Keras\n",
    "\n",
    "Multi-label Text Classification Model with Multiple Output Layer\n",
    "\n",
    "https://stackabuse.com/python-for-nlp-multi-label-text-classification-with-keras/ (english)\n",
    "\n",
    "https://maelfabien.github.io/machinelearning/NLPfr/#7-embedding-par-mot (french - spacy)"
   ]
  },
  {
   "attachments": {},
   "cell_type": "markdown",
   "metadata": {},
   "source": [
    "Import data and libraries"
   ]
  },
  {
   "cell_type": "code",
   "execution_count": 1,
   "metadata": {},
   "outputs": [],
   "source": [
    "import pandas as pd\n",
    "\n",
    "#'Unnamed: 0' 'lemmes' 'pos'\n",
    "X_train = pd.read_csv(\"../challenge_dataset/X_train_clean.csv\").drop(columns='Unnamed: 0')\n",
    "\n",
    "#'Id', 'category_1', 'category_2', 'category_3', 'category_4'\n",
    "Y_train = pd.read_csv(\"../challenge_dataset/y_train.csv\",sep=\";\").drop(columns=\"Id\")\n",
    "\n",
    "#'Id ', 'Caption'\n",
    "X_test_to_predict = pd.read_csv(\"../challenge_dataset/X_test_clean.csv\",sep=\";\")\n",
    "#X_test_to_predict.head()\n",
    "\n",
    "#'Id ', 'Caption'\n",
    "#X_test = pd.read_csv(\"../challenge_dataset/X_test.csv\",sep=';').drop(columns='Id ')"
   ]
  },
  {
   "cell_type": "code",
   "execution_count": 2,
   "metadata": {},
   "outputs": [],
   "source": [
    "#X_test.columns\n",
    "#Y_train.columns"
   ]
  },
  {
   "attachments": {},
   "cell_type": "markdown",
   "metadata": {},
   "source": [
    "Necessary imports"
   ]
  },
  {
   "cell_type": "code",
   "execution_count": 3,
   "metadata": {},
   "outputs": [],
   "source": [
    "#pip install tensorflow\n",
    "\n",
    "from numpy import array\n",
    "from keras.preprocessing.text import one_hot\n",
    "from keras.utils.data_utils import pad_sequences\n",
    "from keras.models import Sequential\n",
    "from keras.layers.core import Activation, Dropout, Dense\n",
    "from keras.layers import Flatten, LSTM\n",
    "from keras.layers import GlobalMaxPooling1D\n",
    "from keras.models import Model\n",
    "from keras.layers import Embedding\n",
    "from sklearn.model_selection import train_test_split\n",
    "from keras.preprocessing.text import Tokenizer\n",
    "from keras.layers import Input\n",
    "from keras.layers import Concatenate\n",
    "\n",
    "import numpy as np\n",
    "import re\n",
    "\n",
    "import matplotlib.pyplot as plt"
   ]
  },
  {
   "attachments": {},
   "cell_type": "markdown",
   "metadata": {},
   "source": [
    "Shape and header"
   ]
  },
  {
   "cell_type": "code",
   "execution_count": 4,
   "metadata": {},
   "outputs": [],
   "source": [
    "#print(X_train.shape)\n",
    "\n",
    "#X_train.head()"
   ]
  },
  {
   "attachments": {},
   "cell_type": "markdown",
   "metadata": {},
   "source": [
    "Repartition of categories among training dataset"
   ]
  },
  {
   "cell_type": "code",
   "execution_count": 5,
   "metadata": {},
   "outputs": [
    {
     "data": {
      "text/plain": [
       "<AxesSubplot: >"
      ]
     },
     "execution_count": 5,
     "metadata": {},
     "output_type": "execute_result"
    },
    {
     "data": {
      "image/png": "[encoded data removed]",
      "text/plain": [
       "<Figure size 1000x800 with 1 Axes>"
      ]
     },
     "metadata": {},
     "output_type": "display_data"
    }
   ],
   "source": [
    "fig_size = plt.rcParams[\"figure.figsize\"]\n",
    "fig_size[0] = 10\n",
    "fig_size[1] = 8\n",
    "plt.rcParams[\"figure.figsize\"] = fig_size\n",
    "\n",
    "Y_train.sum(axis=0).plot.bar()"
   ]
  },
  {
   "attachments": {},
   "cell_type": "markdown",
   "metadata": {},
   "source": [
    "Creating Multi-label Text Classification Models\n",
    "\n",
    "Multi-label Text Classification Model with Multiple Output Layer"
   ]
  },
  {
   "attachments": {},
   "cell_type": "markdown",
   "metadata": {},
   "source": [
    "Pre-processing text"
   ]
  },
  {
   "cell_type": "code",
   "execution_count": 6,
   "metadata": {},
   "outputs": [],
   "source": [
    "def preprocess_text(sen):\n",
    "    # Remove punctuations and numbers\n",
    "    sentence = re.sub('[^a-zA-Zéèàùï]', ' ', sen)\n",
    "\n",
    "    # Single character removal\n",
    "    sentence = re.sub(r\"\\s+[a-zA-Z]\\s+\", ' ', sentence)\n",
    "\n",
    "    # Removing multiple spaces\n",
    "    sentence = re.sub(r'\\s+', ' ', sentence)\n",
    "\n",
    "    return sentence"
   ]
  },
  {
   "cell_type": "code",
   "execution_count": 7,
   "metadata": {},
   "outputs": [
    {
     "name": "stdout",
     "output_type": "stream",
     "text": [
      "                                                values\n",
      "0               mourir heure plus revoir petit enfant \n",
      "1     maladie conséquence jeune génération voir sit...\n",
      "2                                    sortir mal loger \n",
      "3     inquiétude santé proche plus fragile femme ba...\n",
      "4                    bien entendre contracter maladie \n",
      "..                                                 ...\n",
      "480                                 forme grave civid \n",
      "481   inquiétude retrouver liberté action total lim...\n",
      "482   incertitude lequel plus voir petit fils jusqu...\n",
      "483   inquiétude normal face épidémie crainte voir ...\n",
      "484                                respecter barrière \n",
      "\n",
      "[485 rows x 1 columns]\n"
     ]
    }
   ],
   "source": [
    "X_train_cleaned = []\n",
    "\n",
    "for sentences in X_train['lemmes']:\n",
    "    X_train_cleaned.append(preprocess_text(sentences))\n",
    "\n",
    "X_test_to_predict_cleaned = []\n",
    "for sentences in X_test_to_predict['lemmas']:\n",
    "    X_test_to_predict_cleaned.append(preprocess_text(sentences))\n",
    "\n",
    "X_train_cleaned = pd.DataFrame(X_train_cleaned, columns=['values'])\n",
    "X_test_to_predict_cleaned = pd.DataFrame(X_test_to_predict_cleaned, columns=['values'])\n",
    "\n",
    "print(X_train_cleaned)\n",
    "\n",
    "#print(X_train_cleaned)"
   ]
  },
  {
   "attachments": {},
   "cell_type": "markdown",
   "metadata": {},
   "source": [
    "Training 80% testing 20%"
   ]
  },
  {
   "cell_type": "code",
   "execution_count": 8,
   "metadata": {},
   "outputs": [],
   "source": [
    "import tensorflow as tf"
   ]
  },
  {
   "cell_type": "code",
   "execution_count": 9,
   "metadata": {},
   "outputs": [],
   "source": [
    "X = X_train_cleaned['values']\n",
    "Y = Y_train\n",
    "\n",
    "X_test_to_predict_full = X_test_to_predict_cleaned['values']\n",
    "\n",
    "X_train_full=X\n",
    "Y_train_full=Y\n",
    "\n",
    "X_train, X_test, y_train, y_test = train_test_split(X, Y, test_size=0.20, random_state=42)\n",
    "\n",
    "#X_train = tf.convert_to_tensor(X_train, dtype=object)\n",
    "#X_test = tf.convert_to_tensor(X_test, dtype=object)\n",
    "#y_train = tf.convert_to_tensor(y_train, dtype=object)\n",
    "#y_test = tf.convert_to_tensor(y_test, dtype=object)"
   ]
  },
  {
   "cell_type": "code",
   "execution_count": 10,
   "metadata": {},
   "outputs": [],
   "source": [
    "#'category_1', 'category_2', 'category_3', 'category_4'\n",
    "\n",
    "# First output\n",
    "y1_train = y_train[['category_1']].values\n",
    "y1_train_full = Y_train_full[['category_1']].values\n",
    "y1_test =  y_test[['category_1']].values\n",
    "\n",
    "# Second output\n",
    "y2_train = y_train[['category_2']].values\n",
    "y2_train_full = Y_train_full[['category_2']].values\n",
    "y2_test =  y_test[['category_2']].values\n",
    "\n",
    "# Third output\n",
    "y3_train = y_train[['category_3']].values\n",
    "y3_train_full = Y_train_full[['category_3']].values\n",
    "y3_test =  y_test[['category_3']].values\n",
    "\n",
    "# Fourth output\n",
    "y4_train = y_train[['category_4']].values\n",
    "y4_train_full = Y_train_full[['category_4']].values\n",
    "y4_test =  y_test[['category_4']].values"
   ]
  },
  {
   "attachments": {},
   "cell_type": "markdown",
   "metadata": {},
   "source": [
    "Word embedding"
   ]
  },
  {
   "cell_type": "code",
   "execution_count": 11,
   "metadata": {},
   "outputs": [],
   "source": [
    "#launch once or relaunch previous cell\n",
    "\n",
    "tokenizer = Tokenizer(num_words=5000)\n",
    "tokenizer.fit_on_texts(X_train)\n",
    "\n",
    "X_train = tokenizer.texts_to_sequences(X_train)\n",
    "X_train_full = tokenizer.texts_to_sequences(X_train_full)\n",
    "X_test = tokenizer.texts_to_sequences(X_test)\n",
    "X_test_to_predict_full = tokenizer.texts_to_sequences(X_test_to_predict_full)\n",
    "\n",
    "#print(X_train_cleaned)\n",
    "\n",
    "vocab_size = len(tokenizer.word_index) + 1\n",
    "\n",
    "maxlen = 200\n",
    "\n",
    "X_train = pad_sequences(X_train, padding='post', maxlen=maxlen)\n",
    "X_train_full = pad_sequences(X_train_full, padding='post', maxlen=maxlen)\n",
    "X_test = pad_sequences(X_test, padding='post', maxlen=maxlen)\n",
    "X_test_to_predict_full = pad_sequences(X_test_to_predict_full, padding='post', maxlen=maxlen)\n",
    "\n",
    "#print(X_train_cleaned)"
   ]
  },
  {
   "attachments": {},
   "cell_type": "markdown",
   "metadata": {},
   "source": [
    "Word embedding (french)\n",
    "\n",
    "https://www.cs.cmu.edu/~afm/projects/multilingual_embeddings.html"
   ]
  },
  {
   "cell_type": "code",
   "execution_count": 12,
   "metadata": {},
   "outputs": [],
   "source": [
    "from numpy import array, asarray, zeros"
   ]
  },
  {
   "cell_type": "code",
   "execution_count": 13,
   "metadata": {},
   "outputs": [],
   "source": [
    "embeddings_dictionary = dict()\n",
    "\n",
    "glove_file = open('../resources/multilingual_embeddings.txt', encoding=\"utf8\")\n",
    "\n",
    "for line in glove_file:\n",
    "    records = line.split()\n",
    "    word = records[0]\n",
    "    vector_dimensions = asarray(records[1:], dtype='float32')\n",
    "    embeddings_dictionary[word] = vector_dimensions\n",
    "glove_file.close()\n",
    "\n",
    "embedding_matrix = zeros((vocab_size, 300))\n",
    "\n",
    "for word, index in tokenizer.word_index.items():\n",
    "    embedding_vector = embeddings_dictionary.get(word)\n",
    "    if embedding_vector is not None:\n",
    "        embedding_matrix[index] = embedding_vector"
   ]
  },
  {
   "cell_type": "code",
   "execution_count": 14,
   "metadata": {},
   "outputs": [],
   "source": [
    "#print(embedding_matrix)"
   ]
  },
  {
   "attachments": {},
   "cell_type": "markdown",
   "metadata": {},
   "source": [
    "NN model"
   ]
  },
  {
   "attachments": {},
   "cell_type": "markdown",
   "metadata": {},
   "source": [
    "Summary of the NN"
   ]
  },
  {
   "attachments": {},
   "cell_type": "markdown",
   "metadata": {},
   "source": [
    "Architecture of the NN"
   ]
  },
  {
   "attachments": {},
   "cell_type": "markdown",
   "metadata": {},
   "source": [
    "Train model"
   ]
  },
  {
   "attachments": {},
   "cell_type": "markdown",
   "metadata": {},
   "source": [
    "Evaluate model"
   ]
  },
  {
   "attachments": {},
   "cell_type": "markdown",
   "metadata": {},
   "source": [
    "Graphs of the model"
   ]
  },
  {
   "attachments": {},
   "cell_type": "markdown",
   "metadata": {},
   "source": [
    "Predictions"
   ]
  },
  {
   "attachments": {},
   "cell_type": "markdown",
   "metadata": {},
   "source": [
    "Model on all train data"
   ]
  },
  {
   "cell_type": "code",
   "execution_count": 15,
   "metadata": {},
   "outputs": [],
   "source": [
    "input_1_full = Input(shape=(maxlen,))\n",
    "embedding_layer_full = Embedding(vocab_size, 300, weights=[embedding_matrix], trainable=False)(input_1_full)\n",
    "LSTM_Layer1_full = LSTM(32)(embedding_layer_full)\n",
    "\n",
    "output1_full = Dense(1, activation='sigmoid')(LSTM_Layer1_full)\n",
    "output2_full = Dense(1, activation='sigmoid')(LSTM_Layer1_full)\n",
    "output3_full = Dense(1, activation='sigmoid')(LSTM_Layer1_full)\n",
    "output4_full = Dense(1, activation='sigmoid')(LSTM_Layer1_full)\n",
    "\n",
    "model_full = Model(inputs=input_1_full, outputs=[output1_full, output2_full, output3_full, output4_full])\n",
    "model_full.compile(loss='binary_crossentropy', optimizer='adam', metrics=['acc'])"
   ]
  },
  {
   "cell_type": "code",
   "execution_count": 16,
   "metadata": {},
   "outputs": [
    {
     "name": "stdout",
     "output_type": "stream",
     "text": [
      "Model: \"model\"\n",
      "__________________________________________________________________________________________________\n",
      " Layer (type)                   Output Shape         Param #     Connected to                     \n",
      "==================================================================================================\n",
      " input_1 (InputLayer)           [(None, 200)]        0           []                               \n",
      "                                                                                                  \n",
      " embedding (Embedding)          (None, 200, 300)     462000      ['input_1[0][0]']                \n",
      "                                                                                                  \n",
      " lstm (LSTM)                    (None, 32)           42624       ['embedding[0][0]']              \n",
      "                                                                                                  \n",
      " dense (Dense)                  (None, 1)            33          ['lstm[0][0]']                   \n",
      "                                                                                                  \n",
      " dense_1 (Dense)                (None, 1)            33          ['lstm[0][0]']                   \n",
      "                                                                                                  \n",
      " dense_2 (Dense)                (None, 1)            33          ['lstm[0][0]']                   \n",
      "                                                                                                  \n",
      " dense_3 (Dense)                (None, 1)            33          ['lstm[0][0]']                   \n",
      "                                                                                                  \n",
      "==================================================================================================\n",
      "Total params: 504,756\n",
      "Trainable params: 42,756\n",
      "Non-trainable params: 462,000\n",
      "__________________________________________________________________________________________________\n",
      "None\n"
     ]
    }
   ],
   "source": [
    "print(model_full.summary())"
   ]
  },
  {
   "cell_type": "code",
   "execution_count": 17,
   "metadata": {},
   "outputs": [],
   "source": [
    "from keras.utils import plot_model"
   ]
  },
  {
   "cell_type": "code",
   "execution_count": 18,
   "metadata": {},
   "outputs": [
    {
     "data": {
      "image/png": "[encoded data removed]",
      "text/plain": [
       "<IPython.core.display.Image object>"
      ]
     },
     "execution_count": 18,
     "metadata": {},
     "output_type": "execute_result"
    }
   ],
   "source": [
    "plot_model(model_full, to_file='model_full_plot4a.png', show_shapes=True, show_layer_names=True)"
   ]
  },
  {
   "cell_type": "code",
   "execution_count": 19,
   "metadata": {},
   "outputs": [
    {
     "name": "stdout",
     "output_type": "stream",
     "text": [
      "Epoch 1/10\n",
      "4/4 [==============================] - 6s 152ms/step - loss: 2.7665 - dense_loss: 0.6925 - dense_1_loss: 0.6928 - dense_2_loss: 0.6932 - dense_3_loss: 0.6880 - dense_acc: 0.7216 - dense_1_acc: 0.6454 - dense_2_acc: 0.5010 - dense_3_acc: 0.8825\n",
      "Epoch 2/10\n",
      "4/4 [==============================] - 1s 143ms/step - loss: 2.7463 - dense_loss: 0.6905 - dense_1_loss: 0.6913 - dense_2_loss: 0.6932 - dense_3_loss: 0.6713 - dense_acc: 0.7216 - dense_1_acc: 0.6454 - dense_2_acc: 0.4887 - dense_3_acc: 0.8825\n",
      "Epoch 3/10\n",
      "4/4 [==============================] - 1s 142ms/step - loss: 2.7178 - dense_loss: 0.6876 - dense_1_loss: 0.6893 - dense_2_loss: 0.6933 - dense_3_loss: 0.6476 - dense_acc: 0.7216 - dense_1_acc: 0.6454 - dense_2_acc: 0.4887 - dense_3_acc: 0.8825\n",
      "Epoch 4/10\n",
      "4/4 [==============================] - 1s 143ms/step - loss: 2.6722 - dense_loss: 0.6834 - dense_1_loss: 0.6859 - dense_2_loss: 0.6936 - dense_3_loss: 0.6093 - dense_acc: 0.7216 - dense_1_acc: 0.6454 - dense_2_acc: 0.4887 - dense_3_acc: 0.8825\n",
      "Epoch 5/10\n",
      "4/4 [==============================] - 1s 140ms/step - loss: 2.5765 - dense_loss: 0.6744 - dense_1_loss: 0.6776 - dense_2_loss: 0.6939 - dense_3_loss: 0.5306 - dense_acc: 0.7216 - dense_1_acc: 0.6454 - dense_2_acc: 0.4887 - dense_3_acc: 0.8825\n",
      "Epoch 6/10\n",
      "4/4 [==============================] - 1s 142ms/step - loss: 2.3784 - dense_loss: 0.6371 - dense_1_loss: 0.6611 - dense_2_loss: 0.6950 - dense_3_loss: 0.3851 - dense_acc: 0.7216 - dense_1_acc: 0.6454 - dense_2_acc: 0.4887 - dense_3_acc: 0.8825\n",
      "Epoch 7/10\n",
      "4/4 [==============================] - 1s 139ms/step - loss: 2.3277 - dense_loss: 0.5973 - dense_1_loss: 0.6537 - dense_2_loss: 0.6935 - dense_3_loss: 0.3832 - dense_acc: 0.7216 - dense_1_acc: 0.6454 - dense_2_acc: 0.5072 - dense_3_acc: 0.8825\n",
      "Epoch 8/10\n",
      "4/4 [==============================] - 1s 146ms/step - loss: 2.3361 - dense_loss: 0.5916 - dense_1_loss: 0.6512 - dense_2_loss: 0.6929 - dense_3_loss: 0.4005 - dense_acc: 0.7216 - dense_1_acc: 0.6454 - dense_2_acc: 0.5113 - dense_3_acc: 0.8825\n",
      "Epoch 9/10\n",
      "4/4 [==============================] - 1s 141ms/step - loss: 2.3214 - dense_loss: 0.5917 - dense_1_loss: 0.6503 - dense_2_loss: 0.6931 - dense_3_loss: 0.3863 - dense_acc: 0.7216 - dense_1_acc: 0.6454 - dense_2_acc: 0.5113 - dense_3_acc: 0.8825\n",
      "Epoch 10/10\n",
      "4/4 [==============================] - 1s 137ms/step - loss: 2.3070 - dense_loss: 0.5910 - dense_1_loss: 0.6504 - dense_2_loss: 0.6936 - dense_3_loss: 0.3720 - dense_acc: 0.7216 - dense_1_acc: 0.6454 - dense_2_acc: 0.5113 - dense_3_acc: 0.8825\n"
     ]
    }
   ],
   "source": [
    "#print(y1_train_full)\n",
    "\n",
    "history_full = model_full.fit(x=X_train_full, y=[y1_train_full, y2_train_full, y3_train_full, y4_train_full], batch_size=128, epochs=10, verbose=1, validation_split=0)"
   ]
  },
  {
   "cell_type": "code",
   "execution_count": 20,
   "metadata": {},
   "outputs": [],
   "source": [
    "#'Id ', 'Caption'\n",
    "\n",
    "#X_test_to_predict = pd.read_csv(\"../challenge_dataset/X_test.csv\",sep=';').drop(columns='Id ')\n",
    "#X_test_to_predict_values = X_test_to_predict['Caption'].values\n",
    "#X_test_to_predict.columns"
   ]
  },
  {
   "cell_type": "code",
   "execution_count": 21,
   "metadata": {},
   "outputs": [],
   "source": [
    "#X_test_to_predict_values"
   ]
  },
  {
   "cell_type": "code",
   "execution_count": 22,
   "metadata": {},
   "outputs": [
    {
     "name": "stdout",
     "output_type": "stream",
     "text": [
      "5/5 [==============================] - 1s 51ms/step\n"
     ]
    }
   ],
   "source": [
    "#Y_predicted_test = model_full.predict(x=X_test_to_predict, batch_size=32, verbose=1, steps=None, callbacks=None, max_queue_size=10, workers=1, use_multiprocessing=False)\n",
    "\n",
    "#Y_predict_full = model_full.predict(X_test_to_predict_full, batch_size=32)\n",
    "#print(model_full.predict(X_test_to_predict_full,batch_size=32))\n",
    "Y_predict_full = model_full.predict(X_test_to_predict_full, batch_size=32)"
   ]
  },
  {
   "cell_type": "code",
   "execution_count": 23,
   "metadata": {},
   "outputs": [
    {
     "data": {
      "text/plain": [
       "Index(['Id', 'category_1', 'category_2', 'category_3', 'category_4'], dtype='object')"
      ]
     },
     "execution_count": 23,
     "metadata": {},
     "output_type": "execute_result"
    }
   ],
   "source": [
    "#print(Y_predict_full)\n",
    "\n",
    "#shape (4,157,1)\n",
    "#157 test data\n",
    "Y_predict_full = np.asarray(Y_predict_full)\n",
    "\n",
    "#print(type(Y_predict_full))\n",
    "\n",
    "#print(Y_predict_full)\n",
    "#print(Y_predict_full.shape)\n",
    "\n",
    "#print(Y_predict_full[1])\n",
    "#print([x[0] for x in Y_predict_full[1]])\n",
    "\n",
    "Y_predict_csv = pd.DataFrame()\n",
    "\n",
    "indexes = range(599,756)\n",
    "cat1 = pd.Series([x[0] for x in Y_predict_full[0]], name='cat1_', dtype='float64')\n",
    "cat2 = pd.Series([x[0] for x in Y_predict_full[1]], name='cat2_', dtype='float64')\n",
    "cat3 = pd.Series([x[0] for x in Y_predict_full[2]], name='cat3_', dtype='float64')\n",
    "cat4 = pd.Series([x[0] for x in Y_predict_full[3]], name='cat4_', dtype='float64')\n",
    "\n",
    "Y_predict_csv['Id'] = indexes\n",
    "Y_predict_csv['category_1'] = cat1\n",
    "Y_predict_csv['category_2'] = cat2\n",
    "Y_predict_csv['category_3'] = cat3\n",
    "Y_predict_csv['category_4'] = cat4\n",
    "\n",
    "Y_predict_csv.columns\n",
    "\n",
    "#Y_predict_csv.head()"
   ]
  },
  {
   "cell_type": "code",
   "execution_count": 24,
   "metadata": {},
   "outputs": [],
   "source": [
    "Y_predict_csv.to_csv(\"../results/y_predictions_kerasNN.csv\", sep=\";\", index=False)"
   ]
  }
 ],
 "metadata": {
  "kernelspec": {
   "display_name": "Python 3",
   "language": "python",
   "name": "python3"
  },
  "language_info": {
   "codemirror_mode": {
    "name": "ipython",
    "version": 3
   },
   "file_extension": ".py",
   "mimetype": "text/x-python",
   "name": "python",
   "nbconvert_exporter": "python",
   "pygments_lexer": "ipython3",
   "version": "3.10.8"
  },
  "orig_nbformat": 4,
  "vscode": {
   "interpreter": {
    "hash": "a64dd9666529d56eb09235f5970029eb81bdd6af585b079bb2453b5cfbbb8e77"
   }
  }
 },
 "nbformat": 4,
 "nbformat_minor": 2
}
