{
 "cells": [
  {
   "attachments": {},
   "cell_type": "markdown",
   "metadata": {},
   "source": [
    "# NLP with Ensemble Method"
   ]
  },
  {
   "attachments": {},
   "cell_type": "markdown",
   "metadata": {},
   "source": [
    "Les scores obtenus avec la regression logistique pour les différentes catégories étaient les suivants :\n",
    "- f1 score pour la category_1 : 0.1601514910747391\n",
    "- f1 score pour la category_2 : 0.6212450536216092\n",
    "- f1 score pour la category_3 : 0.7704773846842813\n",
    "- f1 score pour la category_4 : 0.0"
   ]
  },
  {
   "attachments": {},
   "cell_type": "markdown",
   "metadata": {},
   "source": [
    "Là où la regression logistique semble assez bien performée sur la catégorie 3, elle n'est d'aucune utilité pour prédire la catégorie 4. Nous allons donc essayer d'améliorer ces résultats en utilisant d'autres méthodes et prendre le meilleur classificateur pour chaque catégorie"
   ]
  },
  {
   "attachments": {},
   "cell_type": "markdown",
   "metadata": {},
   "source": [
    "### Extraction des données"
   ]
  },
  {
   "cell_type": "code",
   "execution_count": 58,
   "metadata": {},
   "outputs": [],
   "source": [
    "import pandas as pd\n",
    "import numpy as np\n",
    "from sklearn.model_selection import train_test_split\n",
    "\n",
    "DIRECTORY = \"challenge_dataset/\"\n",
    "\n",
    "# extract data\n",
    "X = pd.read_csv(DIRECTORY + 'X_train_clean.csv', sep=';')\n",
    "X = X['lemmas'].apply(lambda x: ' '.join(eval(x))).to_list()\n",
    "\n",
    "y = pd.read_csv(DIRECTORY + 'y_train.csv', sep=';').drop(columns=['Id'])\n",
    "categories = y.columns"
   ]
  },
  {
   "cell_type": "code",
   "execution_count": null,
   "metadata": {},
   "outputs": [],
   "source": []
  },
  {
   "attachments": {},
   "cell_type": "markdown",
   "metadata": {},
   "source": [
    "## Naives Bayes"
   ]
  },
  {
   "cell_type": "code",
   "execution_count": 55,
   "metadata": {},
   "outputs": [
    {
     "name": "stdout",
     "output_type": "stream",
     "text": [
      "f1 score category_1 : 0.5936116542073988\n",
      "f1 score category_2 : 0.7054110010631749\n",
      "f1 score category_3 : 0.7763704947269401\n",
      "f1 score category_4 : 0.07076923076923078\n"
     ]
    }
   ],
   "source": [
    "from sklearn.pipeline import make_pipeline\n",
    "from sklearn.feature_extraction.text import CountVectorizer\n",
    "from sklearn.multiclass import OneVsRestClassifier\n",
    "from sklearn.metrics import f1_score\n",
    "from sklearn.model_selection import KFold\n",
    "from sklearn.model_selection import cross_val_score\n",
    "\n",
    "from sklearn.naive_bayes import MultinomialNB\n",
    "\n",
    "n_splits = 5 # nombre de splits pour le KFold\n",
    "NB = make_pipeline(CountVectorizer(),\n",
    "    OneVsRestClassifier(MultinomialNB())\n",
    ")\n",
    "cv = KFold(n_splits, shuffle=True)\n",
    "for category in categories:\n",
    "    print(\"f1 score\", category, \":\", np.mean(cross_val_score(NB, X, y[category], cv=cv, scoring='f1')))"
   ]
  },
  {
   "attachments": {},
   "cell_type": "markdown",
   "metadata": {},
   "source": [
    "## Linear SVC"
   ]
  },
  {
   "cell_type": "code",
   "execution_count": 56,
   "metadata": {},
   "outputs": [
    {
     "name": "stdout",
     "output_type": "stream",
     "text": [
      "f1 score category_1 : 0.5563002520965169\n",
      "f1 score category_2 : 0.7411318048640563\n",
      "f1 score category_3 : 0.7762927300948628\n",
      "f1 score category_4 : 0.29358690844758956\n"
     ]
    }
   ],
   "source": [
    "from sklearn.svm import LinearSVC\n",
    "\n",
    "n_splits = 5 # nombre de splits pour le KFold\n",
    "SVC = make_pipeline(CountVectorizer(),\n",
    "    OneVsRestClassifier(LinearSVC())\n",
    ")\n",
    "cv = KFold(n_splits, shuffle=True)\n",
    "for category in categories:\n",
    "    print(\"f1 score\", category, \":\", np.mean(cross_val_score(SVC, X, y[category], cv=cv, scoring='f1')))"
   ]
  },
  {
   "attachments": {},
   "cell_type": "markdown",
   "metadata": {},
   "source": [
    "## Logistic Regression"
   ]
  },
  {
   "cell_type": "code",
   "execution_count": 57,
   "metadata": {},
   "outputs": [
    {
     "name": "stdout",
     "output_type": "stream",
     "text": [
      "f1 score category_1 : 0.5357894736842106\n",
      "f1 score category_2 : 0.7402792408320991\n",
      "f1 score category_3 : 0.7801076355661307\n",
      "f1 score category_4 : 0.12380952380952381\n"
     ]
    }
   ],
   "source": [
    "from sklearn.linear_model import LogisticRegression\n",
    "\n",
    "n_splits = 5 # nombre de splits pour le KFold\n",
    "LR = make_pipeline(CountVectorizer(),\n",
    "    OneVsRestClassifier(LogisticRegression(solver='sag', max_iter=1000))\n",
    ")\n",
    "cv = KFold(n_splits, shuffle=True)\n",
    "for category in categories:\n",
    "    print(\"f1 score\", category, \":\", np.mean(cross_val_score(LR, X, y[category], cv=cv, scoring='f1')))"
   ]
  },
  {
   "attachments": {},
   "cell_type": "markdown",
   "metadata": {},
   "source": [
    "Le meilleur classificateur semble être le Linear SVC"
   ]
  },
  {
   "attachments": {},
   "cell_type": "markdown",
   "metadata": {},
   "source": [
    "## Prédiction pour Kaggle"
   ]
  },
  {
   "cell_type": "code",
   "execution_count": 60,
   "metadata": {},
   "outputs": [
    {
     "data": {
      "text/html": [
       "<div>\n",
       "<style scoped>\n",
       "    .dataframe tbody tr th:only-of-type {\n",
       "        vertical-align: middle;\n",
       "    }\n",
       "\n",
       "    .dataframe tbody tr th {\n",
       "        vertical-align: top;\n",
       "    }\n",
       "\n",
       "    .dataframe thead th {\n",
       "        text-align: right;\n",
       "    }\n",
       "</style>\n",
       "<table border=\"1\" class=\"dataframe\">\n",
       "  <thead>\n",
       "    <tr style=\"text-align: right;\">\n",
       "      <th></th>\n",
       "      <th>Id</th>\n",
       "      <th>category_1</th>\n",
       "      <th>category_2</th>\n",
       "      <th>category_3</th>\n",
       "      <th>category_4</th>\n",
       "    </tr>\n",
       "  </thead>\n",
       "  <tbody>\n",
       "    <tr>\n",
       "      <th>0</th>\n",
       "      <td>599</td>\n",
       "      <td>0</td>\n",
       "      <td>0</td>\n",
       "      <td>0</td>\n",
       "      <td>0</td>\n",
       "    </tr>\n",
       "    <tr>\n",
       "      <th>1</th>\n",
       "      <td>600</td>\n",
       "      <td>0</td>\n",
       "      <td>0</td>\n",
       "      <td>0</td>\n",
       "      <td>0</td>\n",
       "    </tr>\n",
       "    <tr>\n",
       "      <th>2</th>\n",
       "      <td>602</td>\n",
       "      <td>0</td>\n",
       "      <td>0</td>\n",
       "      <td>0</td>\n",
       "      <td>0</td>\n",
       "    </tr>\n",
       "    <tr>\n",
       "      <th>3</th>\n",
       "      <td>603</td>\n",
       "      <td>0</td>\n",
       "      <td>1</td>\n",
       "      <td>0</td>\n",
       "      <td>0</td>\n",
       "    </tr>\n",
       "    <tr>\n",
       "      <th>4</th>\n",
       "      <td>604</td>\n",
       "      <td>0</td>\n",
       "      <td>0</td>\n",
       "      <td>1</td>\n",
       "      <td>0</td>\n",
       "    </tr>\n",
       "    <tr>\n",
       "      <th>...</th>\n",
       "      <td>...</td>\n",
       "      <td>...</td>\n",
       "      <td>...</td>\n",
       "      <td>...</td>\n",
       "      <td>...</td>\n",
       "    </tr>\n",
       "    <tr>\n",
       "      <th>152</th>\n",
       "      <td>798</td>\n",
       "      <td>0</td>\n",
       "      <td>0</td>\n",
       "      <td>1</td>\n",
       "      <td>0</td>\n",
       "    </tr>\n",
       "    <tr>\n",
       "      <th>153</th>\n",
       "      <td>799</td>\n",
       "      <td>0</td>\n",
       "      <td>0</td>\n",
       "      <td>1</td>\n",
       "      <td>0</td>\n",
       "    </tr>\n",
       "    <tr>\n",
       "      <th>154</th>\n",
       "      <td>800</td>\n",
       "      <td>1</td>\n",
       "      <td>0</td>\n",
       "      <td>0</td>\n",
       "      <td>0</td>\n",
       "    </tr>\n",
       "    <tr>\n",
       "      <th>155</th>\n",
       "      <td>801</td>\n",
       "      <td>0</td>\n",
       "      <td>1</td>\n",
       "      <td>0</td>\n",
       "      <td>0</td>\n",
       "    </tr>\n",
       "    <tr>\n",
       "      <th>156</th>\n",
       "      <td>802</td>\n",
       "      <td>1</td>\n",
       "      <td>0</td>\n",
       "      <td>0</td>\n",
       "      <td>0</td>\n",
       "    </tr>\n",
       "  </tbody>\n",
       "</table>\n",
       "<p>157 rows × 5 columns</p>\n",
       "</div>"
      ],
      "text/plain": [
       "      Id  category_1  category_2  category_3  category_4\n",
       "0    599           0           0           0           0\n",
       "1    600           0           0           0           0\n",
       "2    602           0           0           0           0\n",
       "3    603           0           1           0           0\n",
       "4    604           0           0           1           0\n",
       "..   ...         ...         ...         ...         ...\n",
       "152  798           0           0           1           0\n",
       "153  799           0           0           1           0\n",
       "154  800           1           0           0           0\n",
       "155  801           0           1           0           0\n",
       "156  802           1           0           0           0\n",
       "\n",
       "[157 rows x 5 columns]"
      ]
     },
     "execution_count": 60,
     "metadata": {},
     "output_type": "execute_result"
    }
   ],
   "source": [
    "X_test = pd.read_csv(DIRECTORY + 'X_test_clean.csv', sep=';')\n",
    "index = X_test['Id']\n",
    "X_test = X_test['lemmas'].apply(lambda x: ' '.join(eval(x))).to_list()\n",
    "\n",
    "y_pred = pd.DataFrame(index, columns=['Id'])\n",
    "for category in categories:\n",
    "    SVC.fit(X, y[category])\n",
    "    y_pred[category] = SVC.predict(X_test)\n",
    "y_pred"
   ]
  },
  {
   "cell_type": "code",
   "execution_count": 62,
   "metadata": {},
   "outputs": [],
   "source": [
    "y_pred.to_csv(\"results/y_linear_SVC_on_labels_076646.csv\", index=False)"
   ]
  },
  {
   "cell_type": "markdown",
   "metadata": {},
   "source": []
  }
 ],
 "metadata": {
  "kernelspec": {
   "display_name": "base",
   "language": "python",
   "name": "python3"
  },
  "language_info": {
   "codemirror_mode": {
    "name": "ipython",
    "version": 3
   },
   "file_extension": ".py",
   "mimetype": "text/x-python",
   "name": "python",
   "nbconvert_exporter": "python",
   "pygments_lexer": "ipython3",
   "version": "3.8.3"
  },
  "orig_nbformat": 4,
  "vscode": {
   "interpreter": {
    "hash": "4b756f55fe797ce5a3b3491a8045903d781b4ca2e5e9dbd4284da291141e560b"
   }
  }
 },
 "nbformat": 4,
 "nbformat_minor": 2
}
