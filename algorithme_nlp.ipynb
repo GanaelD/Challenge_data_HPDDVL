{
 "cells": [
  {
   "attachments": {},
   "cell_type": "markdown",
   "metadata": {},
   "source": [
    "# Challenge Data : NLP"
   ]
  },
  {
   "attachments": {},
   "cell_type": "markdown",
   "metadata": {},
   "source": [
    "Extraction des données à partir des fichiers .CSV"
   ]
  },
  {
   "cell_type": "code",
   "execution_count": 2,
   "metadata": {},
   "outputs": [],
   "source": [
    "import pandas as pd\n",
    "import numpy as np\n",
    "\n",
    "DIRECTORY = \"challenge_dataset/\"\n",
    "\n",
    "# extract data\n",
    "X = pd.read_csv(DIRECTORY + 'X_train.csv', sep=';')\n",
    "y = pd.read_csv(DIRECTORY + 'y_train.csv', sep=';').drop(columns=['Id'])\n",
    "\n",
    "categories = list(y.columns)\n",
    "X = X['Caption']"
   ]
  },
  {
   "attachments": {},
   "cell_type": "markdown",
   "metadata": {},
   "source": [
    "## Algorithme SVC"
   ]
  },
  {
   "attachments": {},
   "cell_type": "markdown",
   "metadata": {},
   "source": [
    "Test du modèle avec score roc_auc"
   ]
  },
  {
   "cell_type": "code",
   "execution_count": 5,
   "metadata": {},
   "outputs": [
    {
     "name": "stdout",
     "output_type": "stream",
     "text": [
      "score category_1 : 0.8113500784929355\n",
      "score category_2 : 0.8338367067257011\n",
      "score category_3 : 0.8706727053140095\n",
      "score category_4 : 0.8065540789959394\n",
      "total score 0.8306033923821464\n"
     ]
    }
   ],
   "source": [
    "from sklearn.model_selection import cross_val_score\n",
    "from sklearn.model_selection import StratifiedKFold\n",
    "\n",
    "from sklearn.pipeline import make_pipeline\n",
    "from sklearn.feature_extraction.text import CountVectorizer\n",
    "from sklearn.multiclass import OneVsRestClassifier\n",
    "from sklearn.svm import LinearSVC\n",
    "\n",
    "n_splits = 10 # nombre de splits pour le KFold\n",
    "SVC = make_pipeline(\n",
    "    CountVectorizer(),\n",
    "    OneVsRestClassifier(LinearSVC())\n",
    ")\n",
    "cv = StratifiedKFold(n_splits, shuffle=True)\n",
    "scores = []\n",
    "for category in categories:\n",
    "    scores.append(np.mean(cross_val_score(SVC, X, y[category], cv=cv, scoring='roc_auc')))\n",
    "    print(\"score\", category, \":\", scores[-1])\n",
    "print(\"total score\", np.mean(scores))"
   ]
  },
  {
   "attachments": {},
   "cell_type": "markdown",
   "metadata": {},
   "source": [
    "## Preprocessing des mots"
   ]
  },
  {
   "cell_type": "code",
   "execution_count": 3,
   "metadata": {},
   "outputs": [],
   "source": [
    "import spacy\n",
    "\n",
    "def preprocess_data(data_input: pd.Series):\n",
    "    nlp = spacy.load('fr_core_news_md')\n",
    "\n",
    "    def tokenize_and_lemmatize(sentence):\n",
    "        doc = nlp(sentence)\n",
    "        return [token.lemma_ for token in doc if not (token.is_stop or token.is_punct or token.is_digit or '\\r\\n' in token.text)]\n",
    "\n",
    "    lemmas = [tokenize_and_lemmatize(sentence) for sentence in data_input]\n",
    "\n",
    "    return pd.Series(lemmas).apply(lambda x: ' '.join(x))\n",
    "\n",
    "X_clean = preprocess_data(X)"
   ]
  },
  {
   "attachments": {},
   "cell_type": "markdown",
   "metadata": {},
   "source": [
    "Les résultats avec le preprocessing sont généralement moins ou aussi bons que sans, nous ne l'utilisons donc pas pour la suite"
   ]
  },
  {
   "attachments": {},
   "cell_type": "markdown",
   "metadata": {},
   "source": [
    "## Naives Bayes"
   ]
  },
  {
   "cell_type": "code",
   "execution_count": null,
   "metadata": {},
   "outputs": [],
   "source": [
    "from sklearn.feature_extraction.text import TfidfTransformer\n",
    "from sklearn.naive_bayes import MultinomialNB\n",
    "\n",
    "n_splits = 10 # nombre de splits pour le KFold\n",
    "NB = make_pipeline(\n",
    "    CountVectorizer(),\n",
    "    TfidfTransformer(),\n",
    "    OneVsRestClassifier(MultinomialNB())\n",
    ")\n",
    "cv = StratifiedKFold(n_splits, shuffle=True)\n",
    "scores = []\n",
    "for category in categories:\n",
    "    scores.append(np.mean(cross_val_score(NB, X, y[category], cv=cv, scoring='roc_auc')))\n",
    "    print(\"score\", category, \":\", scores[-1])\n",
    "print(\"total score\", np.mean(scores))"
   ]
  },
  {
   "attachments": {},
   "cell_type": "markdown",
   "metadata": {},
   "source": [
    "## Logistic Regression"
   ]
  },
  {
   "cell_type": "code",
   "execution_count": null,
   "metadata": {},
   "outputs": [
    {
     "name": "stdout",
     "output_type": "stream",
     "text": [
      "score category_1 : 0.7655555555555555\n",
      "score category_2 : 0.8531345441402367\n",
      "score category_3 : 0.8665935012302792\n",
      "score category_4 : 0.7476290262405174\n",
      "total score 0.8082281567916472\n"
     ]
    }
   ],
   "source": [
    "from sklearn.linear_model import LogisticRegression\n",
    "\n",
    "n_splits = 5 # nombre de splits pour le KFold\n",
    "LR = make_pipeline(CountVectorizer(),\n",
    "    OneVsRestClassifier(LogisticRegression(solver='sag', max_iter=10000))\n",
    ")\n",
    "cv = StratifiedKFold(n_splits, shuffle=True)\n",
    "scores = []\n",
    "for category in categories:\n",
    "    scores.append(np.mean(cross_val_score(LR, X, y[category], cv=cv, scoring='roc_auc')))\n",
    "    print(\"score\", category, \":\", scores[-1])\n",
    "print(\"total score\", np.mean(scores))"
   ]
  },
  {
   "attachments": {},
   "cell_type": "markdown",
   "metadata": {},
   "source": [
    "## Semi-supervised Learning"
   ]
  },
  {
   "attachments": {},
   "cell_type": "markdown",
   "metadata": {},
   "source": [
    "On utilise le SVC en prenant en compte les données non labelisées pour augmenter le nombre de données d'entraînement"
   ]
  },
  {
   "cell_type": "code",
   "execution_count": 6,
   "metadata": {},
   "outputs": [
    {
     "name": "stdout",
     "output_type": "stream",
     "text": [
      "score category_1 : 0.6857142857142857\n",
      "score category_2 : 0.8009191176470589\n",
      "score category_3 : 0.7943333333333334\n",
      "score category_4 : 0.5096899224806202\n"
     ]
    }
   ],
   "source": [
    "from sklearn.svm import SVC\n",
    "from sklearn.feature_extraction.text import TfidfTransformer\n",
    "from sklearn.semi_supervised import SelfTrainingClassifier\n",
    "from sklearn.model_selection import StratifiedShuffleSplit\n",
    "\n",
    "from sklearn.metrics import roc_auc_score\n",
    "\n",
    "# extract labeled data\n",
    "X_labeled = pd.read_csv(DIRECTORY + 'X_train.csv', sep=';')\n",
    "#X_labeled = X_labeled['Caption']\n",
    "X_labeled = preprocess_data(X_labeled['Caption'])\n",
    "\n",
    "y_labeled = pd.read_csv(DIRECTORY + 'y_train.csv', sep=';').drop(columns=['Id'])\n",
    "\n",
    "# extract unlabeled data\n",
    "X_unlabeled = pd.read_csv(DIRECTORY + 'nonlabeled_data.csv', sep=';')\n",
    "#X_unlabeled = X_unlabeled['Caption']\n",
    "X_unlabeled = preprocess_data(X_unlabeled['Caption'])\n",
    "nb_unlabeled = X_unlabeled.size\n",
    "y_unlabeled = pd.DataFrame([[-1, -1, -1, -1] for i in range(nb_unlabeled)], columns=categories)\n",
    "\n",
    "\n",
    "SVC_pipeline = make_pipeline(\n",
    "    CountVectorizer(),\n",
    "    SelfTrainingClassifier(SVC(kernel='linear', probability=True)),\n",
    ")\n",
    "y_pred = pd.DataFrame()\n",
    "n_splits = 5\n",
    "for category in categories:\n",
    "    score = 0\n",
    "    sss = StratifiedShuffleSplit(n_splits, test_size=0.1)\n",
    "    for train_idx, test_idx in sss.split(X_labeled, y_labeled[category]):\n",
    "        X_train = pd.concat([X_labeled[train_idx], X_unlabeled])\n",
    "        y_train = pd.concat([y_labeled[category][train_idx], y_unlabeled[category]])\n",
    "        SVC_pipeline.fit(X_train, y_train)\n",
    "        y_pred[category] = SVC_pipeline.predict(X_labeled[test_idx])\n",
    "        score += roc_auc_score(y_labeled[category][test_idx], y_pred[category])\n",
    "    print(\"score\", category, \":\", score/n_splits)"
   ]
  },
  {
   "attachments": {},
   "cell_type": "markdown",
   "metadata": {},
   "source": [
    "# Résultats sur le meilleur modèle"
   ]
  },
  {
   "attachments": {},
   "cell_type": "markdown",
   "metadata": {},
   "source": [
    "Nos meilleurs résultats ont été obtenus avec l'aglorithme SVC linéaire"
   ]
  },
  {
   "attachments": {},
   "cell_type": "markdown",
   "metadata": {},
   "source": [
    "Prediction avec SVC linéaire sur les données de test"
   ]
  },
  {
   "cell_type": "code",
   "execution_count": 5,
   "metadata": {},
   "outputs": [
    {
     "data": {
      "text/html": [
       "<div>\n",
       "<style scoped>\n",
       "    .dataframe tbody tr th:only-of-type {\n",
       "        vertical-align: middle;\n",
       "    }\n",
       "\n",
       "    .dataframe tbody tr th {\n",
       "        vertical-align: top;\n",
       "    }\n",
       "\n",
       "    .dataframe thead th {\n",
       "        text-align: right;\n",
       "    }\n",
       "</style>\n",
       "<table border=\"1\" class=\"dataframe\">\n",
       "  <thead>\n",
       "    <tr style=\"text-align: right;\">\n",
       "      <th></th>\n",
       "      <th>Id</th>\n",
       "      <th>category_1</th>\n",
       "      <th>category_2</th>\n",
       "      <th>category_3</th>\n",
       "      <th>category_4</th>\n",
       "    </tr>\n",
       "  </thead>\n",
       "  <tbody>\n",
       "    <tr>\n",
       "      <th>0</th>\n",
       "      <td>599</td>\n",
       "      <td>0</td>\n",
       "      <td>0</td>\n",
       "      <td>0</td>\n",
       "      <td>0</td>\n",
       "    </tr>\n",
       "    <tr>\n",
       "      <th>1</th>\n",
       "      <td>600</td>\n",
       "      <td>0</td>\n",
       "      <td>0</td>\n",
       "      <td>0</td>\n",
       "      <td>0</td>\n",
       "    </tr>\n",
       "    <tr>\n",
       "      <th>2</th>\n",
       "      <td>602</td>\n",
       "      <td>0</td>\n",
       "      <td>0</td>\n",
       "      <td>1</td>\n",
       "      <td>0</td>\n",
       "    </tr>\n",
       "    <tr>\n",
       "      <th>3</th>\n",
       "      <td>603</td>\n",
       "      <td>0</td>\n",
       "      <td>1</td>\n",
       "      <td>0</td>\n",
       "      <td>0</td>\n",
       "    </tr>\n",
       "    <tr>\n",
       "      <th>4</th>\n",
       "      <td>604</td>\n",
       "      <td>1</td>\n",
       "      <td>0</td>\n",
       "      <td>1</td>\n",
       "      <td>0</td>\n",
       "    </tr>\n",
       "    <tr>\n",
       "      <th>...</th>\n",
       "      <td>...</td>\n",
       "      <td>...</td>\n",
       "      <td>...</td>\n",
       "      <td>...</td>\n",
       "      <td>...</td>\n",
       "    </tr>\n",
       "    <tr>\n",
       "      <th>152</th>\n",
       "      <td>798</td>\n",
       "      <td>0</td>\n",
       "      <td>0</td>\n",
       "      <td>1</td>\n",
       "      <td>0</td>\n",
       "    </tr>\n",
       "    <tr>\n",
       "      <th>153</th>\n",
       "      <td>799</td>\n",
       "      <td>0</td>\n",
       "      <td>1</td>\n",
       "      <td>1</td>\n",
       "      <td>0</td>\n",
       "    </tr>\n",
       "    <tr>\n",
       "      <th>154</th>\n",
       "      <td>800</td>\n",
       "      <td>1</td>\n",
       "      <td>0</td>\n",
       "      <td>0</td>\n",
       "      <td>0</td>\n",
       "    </tr>\n",
       "    <tr>\n",
       "      <th>155</th>\n",
       "      <td>801</td>\n",
       "      <td>0</td>\n",
       "      <td>1</td>\n",
       "      <td>0</td>\n",
       "      <td>0</td>\n",
       "    </tr>\n",
       "    <tr>\n",
       "      <th>156</th>\n",
       "      <td>802</td>\n",
       "      <td>1</td>\n",
       "      <td>0</td>\n",
       "      <td>0</td>\n",
       "      <td>0</td>\n",
       "    </tr>\n",
       "  </tbody>\n",
       "</table>\n",
       "<p>157 rows × 5 columns</p>\n",
       "</div>"
      ],
      "text/plain": [
       "      Id  category_1  category_2  category_3  category_4\n",
       "0    599           0           0           0           0\n",
       "1    600           0           0           0           0\n",
       "2    602           0           0           1           0\n",
       "3    603           0           1           0           0\n",
       "4    604           1           0           1           0\n",
       "..   ...         ...         ...         ...         ...\n",
       "152  798           0           0           1           0\n",
       "153  799           0           1           1           0\n",
       "154  800           1           0           0           0\n",
       "155  801           0           1           0           0\n",
       "156  802           1           0           0           0\n",
       "\n",
       "[157 rows x 5 columns]"
      ]
     },
     "execution_count": 5,
     "metadata": {},
     "output_type": "execute_result"
    }
   ],
   "source": [
    "X_test = pd.read_csv(DIRECTORY + 'X_test.csv', sep=';')\n",
    "index = X_test['Id']\n",
    "X_test = X_test['Caption']\n",
    "\n",
    "SVC = make_pipeline(\n",
    "    CountVectorizer(),\n",
    "    OneVsRestClassifier(LinearSVC())\n",
    ")\n",
    "y_pred = pd.DataFrame(index, columns=['Id'])\n",
    "for category in categories:\n",
    "    SVC.fit(X, y[category])\n",
    "    y_pred[category] = SVC.predict(X_test)\n",
    "y_pred"
   ]
  },
  {
   "attachments": {},
   "cell_type": "markdown",
   "metadata": {},
   "source": [
    "Export au format .CSV"
   ]
  },
  {
   "cell_type": "code",
   "execution_count": null,
   "metadata": {},
   "outputs": [],
   "source": [
    "y_pred.to_csv(\"results/y_pred.csv\", index=False)"
   ]
  },
  {
   "cell_type": "markdown",
   "metadata": {},
   "source": []
  }
 ],
 "metadata": {
  "kernelspec": {
   "display_name": "Python 3",
   "language": "python",
   "name": "python3"
  },
  "language_info": {
   "codemirror_mode": {
    "name": "ipython",
    "version": 3
   },
   "file_extension": ".py",
   "mimetype": "text/x-python",
   "name": "python",
   "nbconvert_exporter": "python",
   "pygments_lexer": "ipython3",
   "version": "3.10.8"
  },
  "orig_nbformat": 4,
  "vscode": {
   "interpreter": {
    "hash": "a64dd9666529d56eb09235f5970029eb81bdd6af585b079bb2453b5cfbbb8e77"
   }
  }
 },
 "nbformat": 4,
 "nbformat_minor": 2
}
